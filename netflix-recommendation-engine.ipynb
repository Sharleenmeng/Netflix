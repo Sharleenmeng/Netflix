{
 "cells": [
  {
   "cell_type": "markdown",
   "metadata": {
    "papermill": {
     "duration": 0.023888,
     "end_time": "2021-06-23T12:31:59.258593",
     "exception": false,
     "start_time": "2021-06-23T12:31:59.234705",
     "status": "completed"
    },
    "tags": []
   },
   "source": [
    "# 1. Introduction \n",
    "\n",
    "The goal of this project is to develop a content-based recommendation engine for movies and TV shows on Netflix. I will compare two different methods:\n",
    "\n",
    "1. Using *cast, director, country, rating and genres* as features.\n",
    "2. Using the words in the movie/TV show *descriptions* as features."
   ]
  },
  {
   "cell_type": "markdown",
   "metadata": {
    "papermill": {
     "duration": 0.022322,
     "end_time": "2021-06-23T12:31:59.305196",
     "exception": false,
     "start_time": "2021-06-23T12:31:59.282874",
     "status": "completed"
    },
    "tags": []
   },
   "source": [
    "# 2. Imports"
   ]
  },
  {
   "cell_type": "code",
   "execution_count": 1,
   "metadata": {
    "execution": {
     "iopub.execute_input": "2021-06-23T12:31:59.355891Z",
     "iopub.status.busy": "2021-06-23T12:31:59.355221Z",
     "iopub.status.idle": "2021-06-23T12:32:20.972718Z",
     "shell.execute_reply": "2021-06-23T12:32:20.973121Z"
    },
    "papermill": {
     "duration": 21.645406,
     "end_time": "2021-06-23T12:32:20.973456",
     "exception": false,
     "start_time": "2021-06-23T12:31:59.328050",
     "status": "completed"
    },
    "tags": []
   },
   "outputs": [
    {
     "name": "stdout",
     "output_type": "stream",
     "text": [
      "[nltk_data] Error loading stopwords: <urlopen error [Errno -3]\n",
      "[nltk_data]     Temporary failure in name resolution>\n"
     ]
    }
   ],
   "source": [
    "import numpy as np\n",
    "import pandas as pd\n",
    "import re\n",
    "\n",
    "import nltk\n",
    "from nltk.corpus import stopwords\n",
    "nltk.download('stopwords')\n",
    "from nltk.tokenize import word_tokenize"
   ]
  },
  {
   "cell_type": "markdown",
   "metadata": {
    "papermill": {
     "duration": 0.022639,
     "end_time": "2021-06-23T12:32:21.019547",
     "exception": false,
     "start_time": "2021-06-23T12:32:20.996908",
     "status": "completed"
    },
    "tags": []
   },
   "source": [
    "# 3. Loading data"
   ]
  },
  {
   "cell_type": "code",
   "execution_count": 2,
   "metadata": {
    "execution": {
     "iopub.execute_input": "2021-06-23T12:32:21.070623Z",
     "iopub.status.busy": "2021-06-23T12:32:21.070070Z",
     "iopub.status.idle": "2021-06-23T12:32:21.241339Z",
     "shell.execute_reply": "2021-06-23T12:32:21.240796Z"
    },
    "papermill": {
     "duration": 0.1968,
     "end_time": "2021-06-23T12:32:21.241468",
     "exception": false,
     "start_time": "2021-06-23T12:32:21.044668",
     "status": "completed"
    },
    "tags": []
   },
   "outputs": [
    {
     "data": {
      "text/html": [
       "<div>\n",
       "<style scoped>\n",
       "    .dataframe tbody tr th:only-of-type {\n",
       "        vertical-align: middle;\n",
       "    }\n",
       "\n",
       "    .dataframe tbody tr th {\n",
       "        vertical-align: top;\n",
       "    }\n",
       "\n",
       "    .dataframe thead th {\n",
       "        text-align: right;\n",
       "    }\n",
       "</style>\n",
       "<table border=\"1\" class=\"dataframe\">\n",
       "  <thead>\n",
       "    <tr style=\"text-align: right;\">\n",
       "      <th></th>\n",
       "      <th>show_id</th>\n",
       "      <th>type</th>\n",
       "      <th>title</th>\n",
       "      <th>director</th>\n",
       "      <th>cast</th>\n",
       "      <th>country</th>\n",
       "      <th>date_added</th>\n",
       "      <th>release_year</th>\n",
       "      <th>rating</th>\n",
       "      <th>duration</th>\n",
       "      <th>listed_in</th>\n",
       "      <th>description</th>\n",
       "    </tr>\n",
       "  </thead>\n",
       "  <tbody>\n",
       "    <tr>\n",
       "      <th>0</th>\n",
       "      <td>s1</td>\n",
       "      <td>TV Show</td>\n",
       "      <td>3%</td>\n",
       "      <td>NaN</td>\n",
       "      <td>João Miguel, Bianca Comparato, Michel Gomes, R...</td>\n",
       "      <td>Brazil</td>\n",
       "      <td>August 14, 2020</td>\n",
       "      <td>2020</td>\n",
       "      <td>TV-MA</td>\n",
       "      <td>4 Seasons</td>\n",
       "      <td>International TV Shows, TV Dramas, TV Sci-Fi &amp;...</td>\n",
       "      <td>In a future where the elite inhabit an island ...</td>\n",
       "    </tr>\n",
       "    <tr>\n",
       "      <th>1</th>\n",
       "      <td>s2</td>\n",
       "      <td>Movie</td>\n",
       "      <td>7:19</td>\n",
       "      <td>Jorge Michel Grau</td>\n",
       "      <td>Demián Bichir, Héctor Bonilla, Oscar Serrano, ...</td>\n",
       "      <td>Mexico</td>\n",
       "      <td>December 23, 2016</td>\n",
       "      <td>2016</td>\n",
       "      <td>TV-MA</td>\n",
       "      <td>93 min</td>\n",
       "      <td>Dramas, International Movies</td>\n",
       "      <td>After a devastating earthquake hits Mexico Cit...</td>\n",
       "    </tr>\n",
       "    <tr>\n",
       "      <th>2</th>\n",
       "      <td>s3</td>\n",
       "      <td>Movie</td>\n",
       "      <td>23:59</td>\n",
       "      <td>Gilbert Chan</td>\n",
       "      <td>Tedd Chan, Stella Chung, Henley Hii, Lawrence ...</td>\n",
       "      <td>Singapore</td>\n",
       "      <td>December 20, 2018</td>\n",
       "      <td>2011</td>\n",
       "      <td>R</td>\n",
       "      <td>78 min</td>\n",
       "      <td>Horror Movies, International Movies</td>\n",
       "      <td>When an army recruit is found dead, his fellow...</td>\n",
       "    </tr>\n",
       "    <tr>\n",
       "      <th>3</th>\n",
       "      <td>s4</td>\n",
       "      <td>Movie</td>\n",
       "      <td>9</td>\n",
       "      <td>Shane Acker</td>\n",
       "      <td>Elijah Wood, John C. Reilly, Jennifer Connelly...</td>\n",
       "      <td>United States</td>\n",
       "      <td>November 16, 2017</td>\n",
       "      <td>2009</td>\n",
       "      <td>PG-13</td>\n",
       "      <td>80 min</td>\n",
       "      <td>Action &amp; Adventure, Independent Movies, Sci-Fi...</td>\n",
       "      <td>In a postapocalyptic world, rag-doll robots hi...</td>\n",
       "    </tr>\n",
       "    <tr>\n",
       "      <th>4</th>\n",
       "      <td>s5</td>\n",
       "      <td>Movie</td>\n",
       "      <td>21</td>\n",
       "      <td>Robert Luketic</td>\n",
       "      <td>Jim Sturgess, Kevin Spacey, Kate Bosworth, Aar...</td>\n",
       "      <td>United States</td>\n",
       "      <td>January 1, 2020</td>\n",
       "      <td>2008</td>\n",
       "      <td>PG-13</td>\n",
       "      <td>123 min</td>\n",
       "      <td>Dramas</td>\n",
       "      <td>A brilliant group of students become card-coun...</td>\n",
       "    </tr>\n",
       "  </tbody>\n",
       "</table>\n",
       "</div>"
      ],
      "text/plain": [
       "  show_id     type  title           director  \\\n",
       "0      s1  TV Show     3%                NaN   \n",
       "1      s2    Movie   7:19  Jorge Michel Grau   \n",
       "2      s3    Movie  23:59       Gilbert Chan   \n",
       "3      s4    Movie      9        Shane Acker   \n",
       "4      s5    Movie     21     Robert Luketic   \n",
       "\n",
       "                                                cast        country  \\\n",
       "0  João Miguel, Bianca Comparato, Michel Gomes, R...         Brazil   \n",
       "1  Demián Bichir, Héctor Bonilla, Oscar Serrano, ...         Mexico   \n",
       "2  Tedd Chan, Stella Chung, Henley Hii, Lawrence ...      Singapore   \n",
       "3  Elijah Wood, John C. Reilly, Jennifer Connelly...  United States   \n",
       "4  Jim Sturgess, Kevin Spacey, Kate Bosworth, Aar...  United States   \n",
       "\n",
       "          date_added  release_year rating   duration  \\\n",
       "0    August 14, 2020          2020  TV-MA  4 Seasons   \n",
       "1  December 23, 2016          2016  TV-MA     93 min   \n",
       "2  December 20, 2018          2011      R     78 min   \n",
       "3  November 16, 2017          2009  PG-13     80 min   \n",
       "4    January 1, 2020          2008  PG-13    123 min   \n",
       "\n",
       "                                           listed_in  \\\n",
       "0  International TV Shows, TV Dramas, TV Sci-Fi &...   \n",
       "1                       Dramas, International Movies   \n",
       "2                Horror Movies, International Movies   \n",
       "3  Action & Adventure, Independent Movies, Sci-Fi...   \n",
       "4                                             Dramas   \n",
       "\n",
       "                                         description  \n",
       "0  In a future where the elite inhabit an island ...  \n",
       "1  After a devastating earthquake hits Mexico Cit...  \n",
       "2  When an army recruit is found dead, his fellow...  \n",
       "3  In a postapocalyptic world, rag-doll robots hi...  \n",
       "4  A brilliant group of students become card-coun...  "
      ]
     },
     "execution_count": 2,
     "metadata": {},
     "output_type": "execute_result"
    }
   ],
   "source": [
    "data = pd.read_csv('../input/netflix-shows/netflix_titles.csv')\n",
    "data.head()"
   ]
  },
  {
   "cell_type": "code",
   "execution_count": 3,
   "metadata": {
    "execution": {
     "iopub.execute_input": "2021-06-23T12:32:21.297208Z",
     "iopub.status.busy": "2021-06-23T12:32:21.296646Z",
     "iopub.status.idle": "2021-06-23T12:32:21.312332Z",
     "shell.execute_reply": "2021-06-23T12:32:21.311903Z"
    },
    "papermill": {
     "duration": 0.047107,
     "end_time": "2021-06-23T12:32:21.312463",
     "exception": false,
     "start_time": "2021-06-23T12:32:21.265356",
     "status": "completed"
    },
    "tags": []
   },
   "outputs": [
    {
     "data": {
      "text/html": [
       "<div>\n",
       "<style scoped>\n",
       "    .dataframe tbody tr th:only-of-type {\n",
       "        vertical-align: middle;\n",
       "    }\n",
       "\n",
       "    .dataframe tbody tr th {\n",
       "        vertical-align: top;\n",
       "    }\n",
       "\n",
       "    .dataframe thead th {\n",
       "        text-align: right;\n",
       "    }\n",
       "</style>\n",
       "<table border=\"1\" class=\"dataframe\">\n",
       "  <thead>\n",
       "    <tr style=\"text-align: right;\">\n",
       "      <th></th>\n",
       "      <th>show_id</th>\n",
       "      <th>title</th>\n",
       "      <th>director</th>\n",
       "      <th>cast</th>\n",
       "      <th>country</th>\n",
       "      <th>date_added</th>\n",
       "      <th>release_year</th>\n",
       "      <th>rating</th>\n",
       "      <th>duration</th>\n",
       "      <th>listed_in</th>\n",
       "      <th>description</th>\n",
       "    </tr>\n",
       "    <tr>\n",
       "      <th>type</th>\n",
       "      <th></th>\n",
       "      <th></th>\n",
       "      <th></th>\n",
       "      <th></th>\n",
       "      <th></th>\n",
       "      <th></th>\n",
       "      <th></th>\n",
       "      <th></th>\n",
       "      <th></th>\n",
       "      <th></th>\n",
       "      <th></th>\n",
       "    </tr>\n",
       "  </thead>\n",
       "  <tbody>\n",
       "    <tr>\n",
       "      <th>Movie</th>\n",
       "      <td>5377</td>\n",
       "      <td>5377</td>\n",
       "      <td>5214</td>\n",
       "      <td>4951</td>\n",
       "      <td>5147</td>\n",
       "      <td>5377</td>\n",
       "      <td>5377</td>\n",
       "      <td>5372</td>\n",
       "      <td>5377</td>\n",
       "      <td>5377</td>\n",
       "      <td>5377</td>\n",
       "    </tr>\n",
       "    <tr>\n",
       "      <th>TV Show</th>\n",
       "      <td>2410</td>\n",
       "      <td>2410</td>\n",
       "      <td>184</td>\n",
       "      <td>2118</td>\n",
       "      <td>2133</td>\n",
       "      <td>2400</td>\n",
       "      <td>2410</td>\n",
       "      <td>2408</td>\n",
       "      <td>2410</td>\n",
       "      <td>2410</td>\n",
       "      <td>2410</td>\n",
       "    </tr>\n",
       "  </tbody>\n",
       "</table>\n",
       "</div>"
      ],
      "text/plain": [
       "         show_id  title  director  cast  country  date_added  release_year  \\\n",
       "type                                                                         \n",
       "Movie       5377   5377      5214  4951     5147        5377          5377   \n",
       "TV Show     2410   2410       184  2118     2133        2400          2410   \n",
       "\n",
       "         rating  duration  listed_in  description  \n",
       "type                                               \n",
       "Movie      5372      5377       5377         5377  \n",
       "TV Show    2408      2410       2410         2410  "
      ]
     },
     "execution_count": 3,
     "metadata": {},
     "output_type": "execute_result"
    }
   ],
   "source": [
    "data.groupby('type').count()"
   ]
  },
  {
   "cell_type": "code",
   "execution_count": 4,
   "metadata": {
    "execution": {
     "iopub.execute_input": "2021-06-23T12:32:21.367224Z",
     "iopub.status.busy": "2021-06-23T12:32:21.364494Z",
     "iopub.status.idle": "2021-06-23T12:32:21.387522Z",
     "shell.execute_reply": "2021-06-23T12:32:21.387068Z"
    },
    "papermill": {
     "duration": 0.051049,
     "end_time": "2021-06-23T12:32:21.387674",
     "exception": false,
     "start_time": "2021-06-23T12:32:21.336625",
     "status": "completed"
    },
    "tags": []
   },
   "outputs": [],
   "source": [
    "data = data.dropna(subset=['cast', 'country', 'rating'])"
   ]
  },
  {
   "cell_type": "markdown",
   "metadata": {
    "papermill": {
     "duration": 0.02346,
     "end_time": "2021-06-23T12:32:21.435344",
     "exception": false,
     "start_time": "2021-06-23T12:32:21.411884",
     "status": "completed"
    },
    "tags": []
   },
   "source": [
    "# 4. Developing Recommendation Engine using *cast, director, country, rating and genres*"
   ]
  },
  {
   "cell_type": "code",
   "execution_count": 5,
   "metadata": {
    "execution": {
     "iopub.execute_input": "2021-06-23T12:32:21.489024Z",
     "iopub.status.busy": "2021-06-23T12:32:21.488437Z",
     "iopub.status.idle": "2021-06-23T12:32:21.503002Z",
     "shell.execute_reply": "2021-06-23T12:32:21.503383Z"
    },
    "papermill": {
     "duration": 0.044124,
     "end_time": "2021-06-23T12:32:21.503549",
     "exception": false,
     "start_time": "2021-06-23T12:32:21.459425",
     "status": "completed"
    },
    "tags": []
   },
   "outputs": [
    {
     "data": {
      "text/html": [
       "<div>\n",
       "<style scoped>\n",
       "    .dataframe tbody tr th:only-of-type {\n",
       "        vertical-align: middle;\n",
       "    }\n",
       "\n",
       "    .dataframe tbody tr th {\n",
       "        vertical-align: top;\n",
       "    }\n",
       "\n",
       "    .dataframe thead th {\n",
       "        text-align: right;\n",
       "    }\n",
       "</style>\n",
       "<table border=\"1\" class=\"dataframe\">\n",
       "  <thead>\n",
       "    <tr style=\"text-align: right;\">\n",
       "      <th></th>\n",
       "      <th>title</th>\n",
       "      <th>director</th>\n",
       "      <th>cast</th>\n",
       "      <th>country</th>\n",
       "      <th>rating</th>\n",
       "      <th>listed_in</th>\n",
       "    </tr>\n",
       "  </thead>\n",
       "  <tbody>\n",
       "    <tr>\n",
       "      <th>0</th>\n",
       "      <td>7:19</td>\n",
       "      <td>Jorge Michel Grau</td>\n",
       "      <td>Demián Bichir, Héctor Bonilla, Oscar Serrano, ...</td>\n",
       "      <td>Mexico</td>\n",
       "      <td>TV-MA</td>\n",
       "      <td>Dramas, International Movies</td>\n",
       "    </tr>\n",
       "    <tr>\n",
       "      <th>1</th>\n",
       "      <td>23:59</td>\n",
       "      <td>Gilbert Chan</td>\n",
       "      <td>Tedd Chan, Stella Chung, Henley Hii, Lawrence ...</td>\n",
       "      <td>Singapore</td>\n",
       "      <td>R</td>\n",
       "      <td>Horror Movies, International Movies</td>\n",
       "    </tr>\n",
       "    <tr>\n",
       "      <th>2</th>\n",
       "      <td>9</td>\n",
       "      <td>Shane Acker</td>\n",
       "      <td>Elijah Wood, John C. Reilly, Jennifer Connelly...</td>\n",
       "      <td>United States</td>\n",
       "      <td>PG-13</td>\n",
       "      <td>Action &amp; Adventure, Independent Movies, Sci-Fi...</td>\n",
       "    </tr>\n",
       "    <tr>\n",
       "      <th>3</th>\n",
       "      <td>21</td>\n",
       "      <td>Robert Luketic</td>\n",
       "      <td>Jim Sturgess, Kevin Spacey, Kate Bosworth, Aar...</td>\n",
       "      <td>United States</td>\n",
       "      <td>PG-13</td>\n",
       "      <td>Dramas</td>\n",
       "    </tr>\n",
       "    <tr>\n",
       "      <th>4</th>\n",
       "      <td>122</td>\n",
       "      <td>Yasir Al Yasiri</td>\n",
       "      <td>Amina Khalil, Ahmed Dawood, Tarek Lotfy, Ahmed...</td>\n",
       "      <td>Egypt</td>\n",
       "      <td>TV-MA</td>\n",
       "      <td>Horror Movies, International Movies</td>\n",
       "    </tr>\n",
       "  </tbody>\n",
       "</table>\n",
       "</div>"
      ],
      "text/plain": [
       "   title           director  \\\n",
       "0   7:19  Jorge Michel Grau   \n",
       "1  23:59       Gilbert Chan   \n",
       "2      9        Shane Acker   \n",
       "3     21     Robert Luketic   \n",
       "4    122    Yasir Al Yasiri   \n",
       "\n",
       "                                                cast        country rating  \\\n",
       "0  Demián Bichir, Héctor Bonilla, Oscar Serrano, ...         Mexico  TV-MA   \n",
       "1  Tedd Chan, Stella Chung, Henley Hii, Lawrence ...      Singapore      R   \n",
       "2  Elijah Wood, John C. Reilly, Jennifer Connelly...  United States  PG-13   \n",
       "3  Jim Sturgess, Kevin Spacey, Kate Bosworth, Aar...  United States  PG-13   \n",
       "4  Amina Khalil, Ahmed Dawood, Tarek Lotfy, Ahmed...          Egypt  TV-MA   \n",
       "\n",
       "                                           listed_in  \n",
       "0                       Dramas, International Movies  \n",
       "1                Horror Movies, International Movies  \n",
       "2  Action & Adventure, Independent Movies, Sci-Fi...  \n",
       "3                                             Dramas  \n",
       "4                Horror Movies, International Movies  "
      ]
     },
     "execution_count": 5,
     "metadata": {},
     "output_type": "execute_result"
    }
   ],
   "source": [
    "movies = data[data['type'] == 'Movie'].reset_index()\n",
    "movies = movies.drop(['index', 'show_id', 'type', 'date_added', 'release_year', 'duration', 'description'], axis=1)\n",
    "movies.head()"
   ]
  },
  {
   "cell_type": "code",
   "execution_count": 6,
   "metadata": {
    "execution": {
     "iopub.execute_input": "2021-06-23T12:32:21.556431Z",
     "iopub.status.busy": "2021-06-23T12:32:21.555528Z",
     "iopub.status.idle": "2021-06-23T12:32:21.571199Z",
     "shell.execute_reply": "2021-06-23T12:32:21.571608Z"
    },
    "papermill": {
     "duration": 0.043644,
     "end_time": "2021-06-23T12:32:21.571780",
     "exception": false,
     "start_time": "2021-06-23T12:32:21.528136",
     "status": "completed"
    },
    "tags": []
   },
   "outputs": [
    {
     "data": {
      "text/html": [
       "<div>\n",
       "<style scoped>\n",
       "    .dataframe tbody tr th:only-of-type {\n",
       "        vertical-align: middle;\n",
       "    }\n",
       "\n",
       "    .dataframe tbody tr th {\n",
       "        vertical-align: top;\n",
       "    }\n",
       "\n",
       "    .dataframe thead th {\n",
       "        text-align: right;\n",
       "    }\n",
       "</style>\n",
       "<table border=\"1\" class=\"dataframe\">\n",
       "  <thead>\n",
       "    <tr style=\"text-align: right;\">\n",
       "      <th></th>\n",
       "      <th>title</th>\n",
       "      <th>director</th>\n",
       "      <th>cast</th>\n",
       "      <th>country</th>\n",
       "      <th>rating</th>\n",
       "      <th>listed_in</th>\n",
       "    </tr>\n",
       "  </thead>\n",
       "  <tbody>\n",
       "    <tr>\n",
       "      <th>0</th>\n",
       "      <td>3%</td>\n",
       "      <td>NaN</td>\n",
       "      <td>João Miguel, Bianca Comparato, Michel Gomes, R...</td>\n",
       "      <td>Brazil</td>\n",
       "      <td>TV-MA</td>\n",
       "      <td>International TV Shows, TV Dramas, TV Sci-Fi &amp;...</td>\n",
       "    </tr>\n",
       "    <tr>\n",
       "      <th>1</th>\n",
       "      <td>46</td>\n",
       "      <td>Serdar Akar</td>\n",
       "      <td>Erdal Beşikçioğlu, Yasemin Allen, Melis Birkan...</td>\n",
       "      <td>Turkey</td>\n",
       "      <td>TV-MA</td>\n",
       "      <td>International TV Shows, TV Dramas, TV Mysteries</td>\n",
       "    </tr>\n",
       "    <tr>\n",
       "      <th>2</th>\n",
       "      <td>1983</td>\n",
       "      <td>NaN</td>\n",
       "      <td>Robert Więckiewicz, Maciej Musiał, Michalina O...</td>\n",
       "      <td>Poland, United States</td>\n",
       "      <td>TV-MA</td>\n",
       "      <td>Crime TV Shows, International TV Shows, TV Dramas</td>\n",
       "    </tr>\n",
       "    <tr>\n",
       "      <th>3</th>\n",
       "      <td>​SAINT SEIYA: Knights of the Zodiac</td>\n",
       "      <td>NaN</td>\n",
       "      <td>Bryson Baugus, Emily Neves, Blake Shepard, Pat...</td>\n",
       "      <td>Japan</td>\n",
       "      <td>TV-14</td>\n",
       "      <td>Anime Series, International TV Shows</td>\n",
       "    </tr>\n",
       "    <tr>\n",
       "      <th>4</th>\n",
       "      <td>#blackAF</td>\n",
       "      <td>NaN</td>\n",
       "      <td>Kenya Barris, Rashida Jones, Iman Benson, Genn...</td>\n",
       "      <td>United States</td>\n",
       "      <td>TV-MA</td>\n",
       "      <td>TV Comedies</td>\n",
       "    </tr>\n",
       "  </tbody>\n",
       "</table>\n",
       "</div>"
      ],
      "text/plain": [
       "                                 title     director  \\\n",
       "0                                   3%          NaN   \n",
       "1                                   46  Serdar Akar   \n",
       "2                                 1983          NaN   \n",
       "3  ​SAINT SEIYA: Knights of the Zodiac          NaN   \n",
       "4                             #blackAF          NaN   \n",
       "\n",
       "                                                cast                country  \\\n",
       "0  João Miguel, Bianca Comparato, Michel Gomes, R...                 Brazil   \n",
       "1  Erdal Beşikçioğlu, Yasemin Allen, Melis Birkan...                 Turkey   \n",
       "2  Robert Więckiewicz, Maciej Musiał, Michalina O...  Poland, United States   \n",
       "3  Bryson Baugus, Emily Neves, Blake Shepard, Pat...                  Japan   \n",
       "4  Kenya Barris, Rashida Jones, Iman Benson, Genn...          United States   \n",
       "\n",
       "  rating                                          listed_in  \n",
       "0  TV-MA  International TV Shows, TV Dramas, TV Sci-Fi &...  \n",
       "1  TV-MA    International TV Shows, TV Dramas, TV Mysteries  \n",
       "2  TV-MA  Crime TV Shows, International TV Shows, TV Dramas  \n",
       "3  TV-14               Anime Series, International TV Shows  \n",
       "4  TV-MA                                        TV Comedies  "
      ]
     },
     "execution_count": 6,
     "metadata": {},
     "output_type": "execute_result"
    }
   ],
   "source": [
    "tv = data[data['type'] == 'TV Show'].reset_index()\n",
    "tv = tv.drop(['index', 'show_id', 'type', 'date_added', 'release_year', 'duration', 'description'], axis=1)\n",
    "tv.head()"
   ]
  },
  {
   "cell_type": "code",
   "execution_count": null,
   "metadata": {
    "papermill": {
     "duration": null,
     "end_time": null,
     "exception": false,
     "start_time": "2021-06-23T12:32:21.596783",
     "status": "running"
    },
    "tags": []
   },
   "outputs": [],
   "source": [
    "actors = []\n",
    "\n",
    "for i in movies['cast']:\n",
    "    actor = re.split(r', \\s*', i)\n",
    "    actors.append(actor)\n",
    "    \n",
    "flat_list = []\n",
    "for sublist in actors:\n",
    "    for item in sublist:\n",
    "        flat_list.append(item)\n",
    "        \n",
    "actors_list = sorted(set(flat_list))\n",
    "\n",
    "binary_actors = [[0] * 0 for i in range(len(set(flat_list)))]\n",
    "\n",
    "for i in movies['cast']:\n",
    "    k = 0\n",
    "    for j in actors_list:\n",
    "        if j in i:\n",
    "            binary_actors[k].append(1.0)\n",
    "        else:\n",
    "            binary_actors[k].append(0.0)\n",
    "        k+=1\n",
    "        \n",
    "binary_actors = pd.DataFrame(binary_actors).transpose()\n",
    "        \n",
    "directors = []\n",
    "\n",
    "for i in movies['director']:\n",
    "    if pd.notna(i):\n",
    "        director = re.split(r', \\s*', i)\n",
    "        directors.append(director)\n",
    "    \n",
    "flat_list2 = []\n",
    "for sublist in directors:\n",
    "    for item in sublist:\n",
    "        flat_list2.append(item)\n",
    "        \n",
    "directors_list = sorted(set(flat_list2))\n",
    "\n",
    "binary_directors = [[0] * 0 for i in range(len(set(flat_list2)))]\n",
    "\n",
    "for i in movies['director']:\n",
    "    k = 0\n",
    "    for j in directors_list:\n",
    "        if pd.isna(i):\n",
    "            binary_directors[k].append(0.0)\n",
    "        elif j in i:\n",
    "            binary_directors[k].append(1.0)\n",
    "        else:\n",
    "            binary_directors[k].append(0.0)\n",
    "        k+=1\n",
    "        \n",
    "binary_directors = pd.DataFrame(binary_directors).transpose()\n",
    "        \n",
    "countries = []\n",
    "\n",
    "for i in movies['country']:\n",
    "    country = re.split(r', \\s*', i)\n",
    "    countries.append(country)\n",
    "    \n",
    "flat_list3 = []\n",
    "for sublist in countries:\n",
    "    for item in sublist:\n",
    "        flat_list3.append(item)\n",
    "        \n",
    "countries_list = sorted(set(flat_list3))\n",
    "\n",
    "binary_countries = [[0] * 0 for i in range(len(set(flat_list3)))]\n",
    "\n",
    "for i in movies['country']:\n",
    "    k = 0\n",
    "    for j in countries_list:\n",
    "        if j in i:\n",
    "            binary_countries[k].append(1.0)\n",
    "        else:\n",
    "            binary_countries[k].append(0.0)\n",
    "        k+=1\n",
    "        \n",
    "binary_countries = pd.DataFrame(binary_countries).transpose()\n",
    "\n",
    "genres = []\n",
    "\n",
    "for i in movies['listed_in']:\n",
    "    genre = re.split(r', \\s*', i)\n",
    "    genres.append(genre)\n",
    "    \n",
    "flat_list4 = []\n",
    "for sublist in genres:\n",
    "    for item in sublist:\n",
    "        flat_list4.append(item)\n",
    "        \n",
    "genres_list = sorted(set(flat_list4))\n",
    "\n",
    "binary_genres = [[0] * 0 for i in range(len(set(flat_list4)))]\n",
    "\n",
    "for i in movies['listed_in']:\n",
    "    k = 0\n",
    "    for j in genres_list:\n",
    "        if j in i:\n",
    "            binary_genres[k].append(1.0)\n",
    "        else:\n",
    "            binary_genres[k].append(0.0)\n",
    "        k+=1\n",
    "        \n",
    "binary_genres = pd.DataFrame(binary_genres).transpose()\n",
    "\n",
    "ratings = []\n",
    "\n",
    "for i in movies['rating']:\n",
    "    ratings.append(i)\n",
    "\n",
    "ratings_list = sorted(set(ratings))\n",
    "\n",
    "binary_ratings = [[0] * 0 for i in range(len(set(ratings_list)))]\n",
    "\n",
    "for i in movies['rating']:\n",
    "    k = 0\n",
    "    for j in ratings_list:\n",
    "        if j in i:\n",
    "            binary_ratings[k].append(1.0)\n",
    "        else:\n",
    "            binary_ratings[k].append(0.0)\n",
    "        k+=1\n",
    "        \n",
    "binary_ratings = pd.DataFrame(binary_ratings).transpose()"
   ]
  },
  {
   "cell_type": "code",
   "execution_count": null,
   "metadata": {
    "papermill": {
     "duration": null,
     "end_time": null,
     "exception": null,
     "start_time": null,
     "status": "pending"
    },
    "tags": []
   },
   "outputs": [],
   "source": [
    "binary = pd.concat([binary_actors, binary_directors, binary_countries, binary_genres], axis=1,ignore_index=True)\n",
    "binary"
   ]
  },
  {
   "cell_type": "code",
   "execution_count": null,
   "metadata": {
    "papermill": {
     "duration": null,
     "end_time": null,
     "exception": null,
     "start_time": null,
     "status": "pending"
    },
    "tags": []
   },
   "outputs": [],
   "source": [
    "actors2 = []\n",
    "\n",
    "for i in tv['cast']:\n",
    "    actor2 = re.split(r', \\s*', i)\n",
    "    actors2.append(actor2)\n",
    "    \n",
    "flat_list5 = []\n",
    "for sublist in actors2:\n",
    "    for item in sublist:\n",
    "        flat_list5.append(item)\n",
    "        \n",
    "actors_list2 = sorted(set(flat_list5))\n",
    "\n",
    "binary_actors2 = [[0] * 0 for i in range(len(set(flat_list5)))]\n",
    "\n",
    "for i in tv['cast']:\n",
    "    k = 0\n",
    "    for j in actors_list2:\n",
    "        if j in i:\n",
    "            binary_actors2[k].append(1.0)\n",
    "        else:\n",
    "            binary_actors2[k].append(0.0)\n",
    "        k+=1\n",
    "        \n",
    "binary_actors2 = pd.DataFrame(binary_actors2).transpose()\n",
    "        \n",
    "\n",
    "countries2 = []\n",
    "\n",
    "for i in tv['country']:\n",
    "    country2 = re.split(r', \\s*', i)\n",
    "    countries2.append(country2)\n",
    "    \n",
    "flat_list6 = []\n",
    "for sublist in countries2:\n",
    "    for item in sublist:\n",
    "        flat_list6.append(item)\n",
    "        \n",
    "countries_list2 = sorted(set(flat_list6))\n",
    "\n",
    "binary_countries2 = [[0] * 0 for i in range(len(set(flat_list6)))]\n",
    "\n",
    "for i in tv['country']:\n",
    "    k = 0\n",
    "    for j in countries_list2:\n",
    "        if j in i:\n",
    "            binary_countries2[k].append(1.0)\n",
    "        else:\n",
    "            binary_countries2[k].append(0.0)\n",
    "        k+=1\n",
    "        \n",
    "binary_countries2 = pd.DataFrame(binary_countries2).transpose()\n",
    "\n",
    "genres2 = []\n",
    "\n",
    "for i in tv['listed_in']:\n",
    "    genre2 = re.split(r', \\s*', i)\n",
    "    genres2.append(genre2)\n",
    "    \n",
    "flat_list7 = []\n",
    "for sublist in genres2:\n",
    "    for item in sublist:\n",
    "        flat_list7.append(item)\n",
    "        \n",
    "genres_list2 = sorted(set(flat_list7))\n",
    "\n",
    "binary_genres2 = [[0] * 0 for i in range(len(set(flat_list7)))]\n",
    "\n",
    "for i in tv['listed_in']:\n",
    "    k = 0\n",
    "    for j in genres_list2:\n",
    "        if j in i:\n",
    "            binary_genres2[k].append(1.0)\n",
    "        else:\n",
    "            binary_genres2[k].append(0.0)\n",
    "        k+=1\n",
    "        \n",
    "binary_genres2 = pd.DataFrame(binary_genres2).transpose()\n",
    "\n",
    "ratings2 = []\n",
    "\n",
    "for i in tv['rating']:\n",
    "    ratings2.append(i)\n",
    "\n",
    "ratings_list2 = sorted(set(ratings2))\n",
    "\n",
    "binary_ratings2 = [[0] * 0 for i in range(len(set(ratings_list2)))]\n",
    "\n",
    "for i in tv['rating']:\n",
    "    k = 0\n",
    "    for j in ratings_list2:\n",
    "        if j in i:\n",
    "            binary_ratings2[k].append(1.0)\n",
    "        else:\n",
    "            binary_ratings2[k].append(0.0)\n",
    "        k+=1\n",
    "        \n",
    "binary_ratings2 = pd.DataFrame(binary_ratings2).transpose()"
   ]
  },
  {
   "cell_type": "code",
   "execution_count": null,
   "metadata": {
    "papermill": {
     "duration": null,
     "end_time": null,
     "exception": null,
     "start_time": null,
     "status": "pending"
    },
    "tags": []
   },
   "outputs": [],
   "source": [
    "binary2 = pd.concat([binary_actors2, binary_countries2, binary_genres2], axis=1, ignore_index=True)\n",
    "binary2"
   ]
  },
  {
   "cell_type": "code",
   "execution_count": null,
   "metadata": {
    "papermill": {
     "duration": null,
     "end_time": null,
     "exception": null,
     "start_time": null,
     "status": "pending"
    },
    "tags": []
   },
   "outputs": [],
   "source": [
    "def recommender(search):\n",
    "    cs_list = []\n",
    "    binary_list = []\n",
    "    if search in movies['title'].values:\n",
    "        idx = movies[movies['title'] == search].index.item()\n",
    "        for i in binary.iloc[idx]:\n",
    "            binary_list.append(i)\n",
    "        point1 = np.array(binary_list).reshape(1, -1)\n",
    "        point1 = [val for sublist in point1 for val in sublist]    \n",
    "        for j in range(len(movies)):\n",
    "            binary_list2 = []\n",
    "            for k in binary.iloc[j]:\n",
    "                binary_list2.append(k)\n",
    "            point2 = np.array(binary_list2).reshape(1, -1)\n",
    "            point2 = [val for sublist in point2 for val in sublist]\n",
    "            dot_product = np.dot(point1, point2)\n",
    "            norm_1 = np.linalg.norm(point1)\n",
    "            norm_2 = np.linalg.norm(point2)\n",
    "            cos_sim = dot_product / (norm_1 * norm_2)\n",
    "            cs_list.append(cos_sim)\n",
    "        movies_copy = movies.copy()\n",
    "        movies_copy['cos_sim'] = cs_list\n",
    "        results = movies_copy.sort_values('cos_sim', ascending=False)\n",
    "        results = results[results['title'] != search]    \n",
    "        top_results = results.head(5)\n",
    "        return(top_results)\n",
    "    elif search in tv['title'].values:\n",
    "        idx = tv[tv['title'] == search].index.item()\n",
    "        for i in binary2.iloc[idx]:\n",
    "            binary_list.append(i)\n",
    "        point1 = np.array(binary_list).reshape(1, -1)\n",
    "        point1 = [val for sublist in point1 for val in sublist]\n",
    "        for j in range(len(tv)):\n",
    "            binary_list2 = []\n",
    "            for k in binary2.iloc[j]:\n",
    "                binary_list2.append(k)\n",
    "            point2 = np.array(binary_list2).reshape(1, -1)\n",
    "            point2 = [val for sublist in point2 for val in sublist]\n",
    "            dot_product = np.dot(point1, point2)\n",
    "            norm_1 = np.linalg.norm(point1)\n",
    "            norm_2 = np.linalg.norm(point2)\n",
    "            cos_sim = dot_product / (norm_1 * norm_2)\n",
    "            cs_list.append(cos_sim)\n",
    "        tv_copy = tv.copy()\n",
    "        tv_copy['cos_sim'] = cs_list\n",
    "        results = tv_copy.sort_values('cos_sim', ascending=False)\n",
    "        results = results[results['title'] != search]    \n",
    "        top_results = results.head(5)\n",
    "        return(top_results)\n",
    "    else:\n",
    "        return(\"Title not in dataset. Please check spelling.\")"
   ]
  },
  {
   "cell_type": "markdown",
   "metadata": {
    "papermill": {
     "duration": null,
     "end_time": null,
     "exception": null,
     "start_time": null,
     "status": "pending"
    },
    "tags": []
   },
   "source": [
    "## 4.1. Recommending Movies"
   ]
  },
  {
   "cell_type": "code",
   "execution_count": null,
   "metadata": {
    "papermill": {
     "duration": null,
     "end_time": null,
     "exception": null,
     "start_time": null,
     "status": "pending"
    },
    "tags": []
   },
   "outputs": [],
   "source": [
    "recommender('The Conjuring')"
   ]
  },
  {
   "cell_type": "code",
   "execution_count": null,
   "metadata": {
    "papermill": {
     "duration": null,
     "end_time": null,
     "exception": null,
     "start_time": null,
     "status": "pending"
    },
    "tags": []
   },
   "outputs": [],
   "source": [
    "recommender(\"Child's Play\")"
   ]
  },
  {
   "cell_type": "code",
   "execution_count": null,
   "metadata": {
    "papermill": {
     "duration": null,
     "end_time": null,
     "exception": null,
     "start_time": null,
     "status": "pending"
    },
    "tags": []
   },
   "outputs": [],
   "source": [
    "recommender('Charlie and the Chocolate Factory')"
   ]
  },
  {
   "cell_type": "code",
   "execution_count": null,
   "metadata": {
    "papermill": {
     "duration": null,
     "end_time": null,
     "exception": null,
     "start_time": null,
     "status": "pending"
    },
    "tags": []
   },
   "outputs": [],
   "source": [
    "recommender('Wild Child')"
   ]
  },
  {
   "cell_type": "code",
   "execution_count": null,
   "metadata": {
    "papermill": {
     "duration": null,
     "end_time": null,
     "exception": null,
     "start_time": null,
     "status": "pending"
    },
    "tags": []
   },
   "outputs": [],
   "source": [
    "recommender(\"Dr. Seuss' The Cat in the Hat\")"
   ]
  },
  {
   "cell_type": "code",
   "execution_count": null,
   "metadata": {
    "papermill": {
     "duration": null,
     "end_time": null,
     "exception": null,
     "start_time": null,
     "status": "pending"
    },
    "tags": []
   },
   "outputs": [],
   "source": [
    "recommender('Hook')"
   ]
  },
  {
   "cell_type": "code",
   "execution_count": null,
   "metadata": {
    "papermill": {
     "duration": null,
     "end_time": null,
     "exception": null,
     "start_time": null,
     "status": "pending"
    },
    "tags": []
   },
   "outputs": [],
   "source": [
    "recommender('Holidate')"
   ]
  },
  {
   "cell_type": "markdown",
   "metadata": {
    "papermill": {
     "duration": null,
     "end_time": null,
     "exception": null,
     "start_time": null,
     "status": "pending"
    },
    "tags": []
   },
   "source": [
    "## 4.2. Recommending TV shows"
   ]
  },
  {
   "cell_type": "code",
   "execution_count": null,
   "metadata": {
    "papermill": {
     "duration": null,
     "end_time": null,
     "exception": null,
     "start_time": null,
     "status": "pending"
    },
    "tags": []
   },
   "outputs": [],
   "source": [
    "recommender('After Life')"
   ]
  },
  {
   "cell_type": "code",
   "execution_count": null,
   "metadata": {
    "papermill": {
     "duration": null,
     "end_time": null,
     "exception": null,
     "start_time": null,
     "status": "pending"
    },
    "tags": []
   },
   "outputs": [],
   "source": [
    "recommender('Anne with an E')"
   ]
  },
  {
   "cell_type": "code",
   "execution_count": null,
   "metadata": {
    "papermill": {
     "duration": null,
     "end_time": null,
     "exception": null,
     "start_time": null,
     "status": "pending"
    },
    "tags": []
   },
   "outputs": [],
   "source": [
    "recommender('Gilmore Girls')"
   ]
  },
  {
   "cell_type": "code",
   "execution_count": null,
   "metadata": {
    "papermill": {
     "duration": null,
     "end_time": null,
     "exception": null,
     "start_time": null,
     "status": "pending"
    },
    "tags": []
   },
   "outputs": [],
   "source": [
    "recommender('Friends')"
   ]
  },
  {
   "cell_type": "code",
   "execution_count": null,
   "metadata": {
    "papermill": {
     "duration": null,
     "end_time": null,
     "exception": null,
     "start_time": null,
     "status": "pending"
    },
    "tags": []
   },
   "outputs": [],
   "source": [
    "recommender('Love on the Spectrum')"
   ]
  },
  {
   "cell_type": "code",
   "execution_count": null,
   "metadata": {
    "papermill": {
     "duration": null,
     "end_time": null,
     "exception": null,
     "start_time": null,
     "status": "pending"
    },
    "tags": []
   },
   "outputs": [],
   "source": [
    "recommender('13 Reasons Why')"
   ]
  },
  {
   "cell_type": "code",
   "execution_count": null,
   "metadata": {
    "papermill": {
     "duration": null,
     "end_time": null,
     "exception": null,
     "start_time": null,
     "status": "pending"
    },
    "tags": []
   },
   "outputs": [],
   "source": [
    "recommender('Derry Girls')"
   ]
  },
  {
   "cell_type": "code",
   "execution_count": null,
   "metadata": {
    "papermill": {
     "duration": null,
     "end_time": null,
     "exception": null,
     "start_time": null,
     "status": "pending"
    },
    "tags": []
   },
   "outputs": [],
   "source": [
    "recommender('Breaking Bad')"
   ]
  },
  {
   "cell_type": "code",
   "execution_count": null,
   "metadata": {
    "papermill": {
     "duration": null,
     "end_time": null,
     "exception": null,
     "start_time": null,
     "status": "pending"
    },
    "tags": []
   },
   "outputs": [],
   "source": [
    "recommender('Stranger Things')"
   ]
  },
  {
   "cell_type": "markdown",
   "metadata": {
    "papermill": {
     "duration": null,
     "end_time": null,
     "exception": null,
     "start_time": null,
     "status": "pending"
    },
    "tags": []
   },
   "source": [
    "# 5. Developing Recommendation Engine using *Movie/TV show descriptions*"
   ]
  },
  {
   "cell_type": "code",
   "execution_count": null,
   "metadata": {
    "papermill": {
     "duration": null,
     "end_time": null,
     "exception": null,
     "start_time": null,
     "status": "pending"
    },
    "tags": []
   },
   "outputs": [],
   "source": [
    "movies_des = data[data['type'] == 'Movie'].reset_index()\n",
    "movies_des = movies_des[['title', 'description']]\n",
    "movies_des.head()"
   ]
  },
  {
   "cell_type": "code",
   "execution_count": null,
   "metadata": {
    "papermill": {
     "duration": null,
     "end_time": null,
     "exception": null,
     "start_time": null,
     "status": "pending"
    },
    "tags": []
   },
   "outputs": [],
   "source": [
    "tv_des = data[data['type'] == 'TV Show'].reset_index()\n",
    "tv_des = tv_des[['title', 'description']]\n",
    "tv_des.head()"
   ]
  },
  {
   "cell_type": "code",
   "execution_count": null,
   "metadata": {
    "papermill": {
     "duration": null,
     "end_time": null,
     "exception": null,
     "start_time": null,
     "status": "pending"
    },
    "tags": []
   },
   "outputs": [],
   "source": [
    "filtered_movies = []\n",
    "movies_words = []\n",
    "\n",
    "for text in movies_des['description']:\n",
    "    text_tokens = word_tokenize(text)\n",
    "    tokens_without_sw = [word.lower() for word in text_tokens if not word in stopwords.words()]\n",
    "    movies_words.append(tokens_without_sw)\n",
    "    filtered = (\" \").join(tokens_without_sw)\n",
    "    filtered_movies.append(filtered)\n",
    "\n",
    "movies_words = [val for sublist in movies_words for val in sublist]\n",
    "movies_words = sorted(set(movies_words))\n",
    "movies_des['description_filtered'] = filtered_movies\n",
    "movies_des.head()"
   ]
  },
  {
   "cell_type": "code",
   "execution_count": null,
   "metadata": {
    "papermill": {
     "duration": null,
     "end_time": null,
     "exception": null,
     "start_time": null,
     "status": "pending"
    },
    "tags": []
   },
   "outputs": [],
   "source": [
    "filtered_tv = []\n",
    "tv_words = []\n",
    "\n",
    "for text in tv_des['description']:\n",
    "    text_tokens = word_tokenize(text)\n",
    "    tokens_without_sw = [word.lower() for word in text_tokens if not word in stopwords.words()]\n",
    "    tv_words.append(tokens_without_sw)\n",
    "    filtered = (\" \").join(tokens_without_sw)\n",
    "    filtered_tv.append(filtered)\n",
    "\n",
    "tv_words = [val for sublist in tv_words for val in sublist]\n",
    "tv_words = sorted(set(tv_words))\n",
    "tv_des['description_filtered'] = filtered_tv\n",
    "tv_des.head()"
   ]
  },
  {
   "cell_type": "code",
   "execution_count": null,
   "metadata": {
    "papermill": {
     "duration": null,
     "end_time": null,
     "exception": null,
     "start_time": null,
     "status": "pending"
    },
    "tags": []
   },
   "outputs": [],
   "source": [
    "movie_word_binary = [[0] * 0 for i in range(len(set(movies_words)))]\n",
    "\n",
    "for des in movies_des['description_filtered']:\n",
    "    k = 0\n",
    "    for word in movies_words:\n",
    "        if word in des:\n",
    "            movie_word_binary[k].append(1.0)\n",
    "        else:\n",
    "            movie_word_binary[k].append(0.0)\n",
    "        k+=1\n",
    "        \n",
    "movie_word_binary = pd.DataFrame(movie_word_binary).transpose()"
   ]
  },
  {
   "cell_type": "code",
   "execution_count": null,
   "metadata": {
    "papermill": {
     "duration": null,
     "end_time": null,
     "exception": null,
     "start_time": null,
     "status": "pending"
    },
    "tags": []
   },
   "outputs": [],
   "source": [
    "tv_word_binary = [[0] * 0 for i in range(len(set(tv_words)))]\n",
    "\n",
    "for des in tv_des['description_filtered']:\n",
    "    k = 0\n",
    "    for word in tv_words:\n",
    "        if word in des:\n",
    "            tv_word_binary[k].append(1.0)\n",
    "        else:\n",
    "            tv_word_binary[k].append(0.0)\n",
    "        k+=1\n",
    "        \n",
    "tv_word_binary = pd.DataFrame(tv_word_binary).transpose()"
   ]
  },
  {
   "cell_type": "code",
   "execution_count": null,
   "metadata": {
    "papermill": {
     "duration": null,
     "end_time": null,
     "exception": null,
     "start_time": null,
     "status": "pending"
    },
    "tags": []
   },
   "outputs": [],
   "source": [
    "def recommender2(search):\n",
    "    cs_list = []\n",
    "    binary_list = []\n",
    "    if search in movies_des['title'].values:\n",
    "        idx = movies_des[movies_des['title'] == search].index.item()\n",
    "        for i in movie_word_binary.iloc[idx]:\n",
    "            binary_list.append(i)\n",
    "        point1 = np.array(binary_list).reshape(1, -1)\n",
    "        point1 = [val for sublist in point1 for val in sublist]    \n",
    "        for j in range(len(movies_des)):\n",
    "            binary_list2 = []\n",
    "            for k in movie_word_binary.iloc[j]:\n",
    "                binary_list2.append(k)\n",
    "            point2 = np.array(binary_list2).reshape(1, -1)\n",
    "            point2 = [val for sublist in point2 for val in sublist]\n",
    "            dot_product = np.dot(point1, point2)\n",
    "            norm_1 = np.linalg.norm(point1)\n",
    "            norm_2 = np.linalg.norm(point2)\n",
    "            cos_sim = dot_product / (norm_1 * norm_2)\n",
    "            cs_list.append(cos_sim)\n",
    "        movies_copy = movies_des.copy()\n",
    "        movies_copy['cos_sim'] = cs_list\n",
    "        results = movies_copy.sort_values('cos_sim', ascending=False)\n",
    "        results = results[results['title'] != search]    \n",
    "        top_results = results.head(5)\n",
    "        return(top_results)\n",
    "    elif search in tv_des['title'].values:\n",
    "        idx = tv_des[tv_des['title'] == search].index.item()\n",
    "        for i in tv_word_binary.iloc[idx]:\n",
    "            binary_list.append(i)\n",
    "        point1 = np.array(binary_list).reshape(1, -1)\n",
    "        point1 = [val for sublist in point1 for val in sublist]\n",
    "        for j in range(len(tv)):\n",
    "            binary_list2 = []\n",
    "            for k in tv_word_binary.iloc[j]:\n",
    "                binary_list2.append(k)\n",
    "            point2 = np.array(binary_list2).reshape(1, -1)\n",
    "            point2 = [val for sublist in point2 for val in sublist]\n",
    "            dot_product = np.dot(point1, point2)\n",
    "            norm_1 = np.linalg.norm(point1)\n",
    "            norm_2 = np.linalg.norm(point2)\n",
    "            cos_sim = dot_product / (norm_1 * norm_2)\n",
    "            cs_list.append(cos_sim)\n",
    "        tv_copy = tv_des.copy()\n",
    "        tv_copy['cos_sim'] = cs_list\n",
    "        results = tv_copy.sort_values('cos_sim', ascending=False)\n",
    "        results = results[results['title'] != search]    \n",
    "        top_results = results.head(5)\n",
    "        return(top_results)\n",
    "    else:\n",
    "        return(\"Title not in dataset. Please check spelling.\")"
   ]
  },
  {
   "cell_type": "markdown",
   "metadata": {
    "papermill": {
     "duration": null,
     "end_time": null,
     "exception": null,
     "start_time": null,
     "status": "pending"
    },
    "tags": []
   },
   "source": [
    "## 5.1. Recommending Movies"
   ]
  },
  {
   "cell_type": "code",
   "execution_count": null,
   "metadata": {
    "papermill": {
     "duration": null,
     "end_time": null,
     "exception": null,
     "start_time": null,
     "status": "pending"
    },
    "tags": []
   },
   "outputs": [],
   "source": [
    "pd.options.display.max_colwidth = 300\n",
    "recommender2('The Conjuring')"
   ]
  },
  {
   "cell_type": "code",
   "execution_count": null,
   "metadata": {
    "papermill": {
     "duration": null,
     "end_time": null,
     "exception": null,
     "start_time": null,
     "status": "pending"
    },
    "tags": []
   },
   "outputs": [],
   "source": [
    "recommender2(\"Child's Play\")"
   ]
  },
  {
   "cell_type": "code",
   "execution_count": null,
   "metadata": {
    "papermill": {
     "duration": null,
     "end_time": null,
     "exception": null,
     "start_time": null,
     "status": "pending"
    },
    "tags": []
   },
   "outputs": [],
   "source": [
    "recommender2('Charlie and the Chocolate Factory')"
   ]
  },
  {
   "cell_type": "code",
   "execution_count": null,
   "metadata": {
    "papermill": {
     "duration": null,
     "end_time": null,
     "exception": null,
     "start_time": null,
     "status": "pending"
    },
    "tags": []
   },
   "outputs": [],
   "source": [
    "recommender2('Wild Child')"
   ]
  },
  {
   "cell_type": "code",
   "execution_count": null,
   "metadata": {
    "papermill": {
     "duration": null,
     "end_time": null,
     "exception": null,
     "start_time": null,
     "status": "pending"
    },
    "tags": []
   },
   "outputs": [],
   "source": [
    "recommender2(\"Dr. Seuss' The Cat in the Hat\")"
   ]
  },
  {
   "cell_type": "code",
   "execution_count": null,
   "metadata": {
    "papermill": {
     "duration": null,
     "end_time": null,
     "exception": null,
     "start_time": null,
     "status": "pending"
    },
    "tags": []
   },
   "outputs": [],
   "source": [
    "recommender2('Hook')"
   ]
  },
  {
   "cell_type": "code",
   "execution_count": null,
   "metadata": {
    "papermill": {
     "duration": null,
     "end_time": null,
     "exception": null,
     "start_time": null,
     "status": "pending"
    },
    "tags": []
   },
   "outputs": [],
   "source": [
    "recommender2('Holidate')"
   ]
  },
  {
   "cell_type": "markdown",
   "metadata": {
    "papermill": {
     "duration": null,
     "end_time": null,
     "exception": null,
     "start_time": null,
     "status": "pending"
    },
    "tags": []
   },
   "source": [
    "## 5.2. Recommending TV shows"
   ]
  },
  {
   "cell_type": "code",
   "execution_count": null,
   "metadata": {
    "papermill": {
     "duration": null,
     "end_time": null,
     "exception": null,
     "start_time": null,
     "status": "pending"
    },
    "tags": []
   },
   "outputs": [],
   "source": [
    "recommender2('After Life')"
   ]
  },
  {
   "cell_type": "code",
   "execution_count": null,
   "metadata": {
    "papermill": {
     "duration": null,
     "end_time": null,
     "exception": null,
     "start_time": null,
     "status": "pending"
    },
    "tags": []
   },
   "outputs": [],
   "source": [
    "recommender2('Anne with an E')"
   ]
  },
  {
   "cell_type": "code",
   "execution_count": null,
   "metadata": {
    "papermill": {
     "duration": null,
     "end_time": null,
     "exception": null,
     "start_time": null,
     "status": "pending"
    },
    "tags": []
   },
   "outputs": [],
   "source": [
    "recommender2('Gilmore Girls')"
   ]
  },
  {
   "cell_type": "code",
   "execution_count": null,
   "metadata": {
    "papermill": {
     "duration": null,
     "end_time": null,
     "exception": null,
     "start_time": null,
     "status": "pending"
    },
    "tags": []
   },
   "outputs": [],
   "source": [
    "recommender2('Friends')"
   ]
  },
  {
   "cell_type": "code",
   "execution_count": null,
   "metadata": {
    "papermill": {
     "duration": null,
     "end_time": null,
     "exception": null,
     "start_time": null,
     "status": "pending"
    },
    "tags": []
   },
   "outputs": [],
   "source": [
    "recommender2('Love on the Spectrum')"
   ]
  },
  {
   "cell_type": "code",
   "execution_count": null,
   "metadata": {
    "papermill": {
     "duration": null,
     "end_time": null,
     "exception": null,
     "start_time": null,
     "status": "pending"
    },
    "tags": []
   },
   "outputs": [],
   "source": [
    "recommender2('13 Reasons Why')"
   ]
  },
  {
   "cell_type": "code",
   "execution_count": null,
   "metadata": {
    "papermill": {
     "duration": null,
     "end_time": null,
     "exception": null,
     "start_time": null,
     "status": "pending"
    },
    "tags": []
   },
   "outputs": [],
   "source": [
    "recommender2('Derry Girls')"
   ]
  },
  {
   "cell_type": "code",
   "execution_count": null,
   "metadata": {
    "papermill": {
     "duration": null,
     "end_time": null,
     "exception": null,
     "start_time": null,
     "status": "pending"
    },
    "tags": []
   },
   "outputs": [],
   "source": [
    "recommender2('Breaking Bad')"
   ]
  },
  {
   "cell_type": "code",
   "execution_count": null,
   "metadata": {
    "papermill": {
     "duration": null,
     "end_time": null,
     "exception": null,
     "start_time": null,
     "status": "pending"
    },
    "tags": []
   },
   "outputs": [],
   "source": [
    "recommender2('Stranger Things')"
   ]
  },
  {
   "cell_type": "markdown",
   "metadata": {
    "papermill": {
     "duration": null,
     "end_time": null,
     "exception": null,
     "start_time": null,
     "status": "pending"
    },
    "tags": []
   },
   "source": [
    "# 6. Conclusion\n",
    "\n",
    "Taking the cast, director, country, rating and genres as features rather than the descriptions was definitely the better option. Some of the recommendations by descriptions are good such as the 'Tinker Bell and the Legend of the NeverBeast' recommendation for 'Hook' and the 'Extracurricular' recommendation for '13 Reasons Why', but most of them are from completely different genres with very little in common besides a few key words."
   ]
  }
 ],
 "metadata": {
  "kernelspec": {
   "display_name": "Python 3",
   "language": "python",
   "name": "python3"
  },
  "language_info": {
   "codemirror_mode": {
    "name": "ipython",
    "version": 3
   },
   "file_extension": ".py",
   "mimetype": "text/x-python",
   "name": "python",
   "nbconvert_exporter": "python",
   "pygments_lexer": "ipython3",
   "version": "3.6.4"
  },
  "papermill": {
   "default_parameters": {},
   "duration": null,
   "end_time": null,
   "environment_variables": {},
   "exception": null,
   "input_path": "__notebook__.ipynb",
   "output_path": "__notebook__.ipynb",
   "parameters": {},
   "start_time": "2021-06-23T12:31:54.108517",
   "version": "2.2.2"
  }
 },
 "nbformat": 4,
 "nbformat_minor": 4
}